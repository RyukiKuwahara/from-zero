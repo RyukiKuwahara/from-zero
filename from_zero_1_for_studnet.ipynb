{
  "nbformat": 4,
  "nbformat_minor": 0,
  "metadata": {
    "colab": {
      "provenance": [],
      "include_colab_link": true
    },
    "kernelspec": {
      "name": "python3",
      "display_name": "Python 3"
    },
    "language_info": {
      "name": "python"
    }
  },
  "cells": [
    {
      "cell_type": "markdown",
      "metadata": {
        "id": "view-in-github",
        "colab_type": "text"
      },
      "source": [
        "<a href=\"https://colab.research.google.com/github/RyukiKuwahara/from-zero/blob/main/from_zero_1_for_studnet.ipynb\" target=\"_parent\"><img src=\"https://colab.research.google.com/assets/colab-badge.svg\" alt=\"Open In Colab\"/></a>"
      ]
    },
    {
      "cell_type": "code",
      "execution_count": null,
      "metadata": {
        "id": "slDMXxYowTDQ"
      },
      "outputs": [],
      "source": [
        "def function_and(x1, x2):\n",
        "    w1, w2 =\n",
        "    b =\n",
        "    y = x1 * w1 + x2 * w2 + b\n",
        "    if y <= 0:\n",
        "        return 0\n",
        "    else:\n",
        "        return 1"
      ]
    },
    {
      "cell_type": "code",
      "source": [
        "def function_or(x1, x2):\n",
        "    w1, w2 =\n",
        "    b =\n",
        "    y = x1 * w1 + x2 * w2 + b\n",
        "    if y <= 0:\n",
        "        return 0\n",
        "    else:\n",
        "        return 1"
      ],
      "metadata": {
        "id": "HT1pH437w530"
      },
      "execution_count": null,
      "outputs": []
    },
    {
      "cell_type": "code",
      "source": [
        "def function_nand(x1, x2):\n",
        "    w1, w2 =\n",
        "    b =\n",
        "    y = x1 * w1 + x2 * w2 + b\n",
        "    if y <= 0:\n",
        "        return 0\n",
        "    else:\n",
        "        return 1"
      ],
      "metadata": {
        "id": "tQWj8PdexBMQ"
      },
      "execution_count": null,
      "outputs": []
    },
    {
      "cell_type": "code",
      "source": [
        "def function_nor(x1, x2):\n",
        "    w1, w2 =\n",
        "    b =\n",
        "    y = x1 * w1 + x2 * w2 + b\n",
        "    if y <= 0:\n",
        "        return 0\n",
        "    else:\n",
        "        return 1"
      ],
      "metadata": {
        "id": "ZaXe1Wf0xL-f"
      },
      "execution_count": null,
      "outputs": []
    },
    {
      "cell_type": "code",
      "source": [
        "def print_truth_table(f):\n",
        "    print(\"x1\\tx2\\ty\")\n",
        "    print(\"-\" * 20)\n",
        "    for x1 in [0, 1]:\n",
        "        for x2 in [0, 1]:\n",
        "            print(f\"{x1}\\t{x2}\\t{f(x1, x2)}\")"
      ],
      "metadata": {
        "id": "VMXqj6oFxVbw"
      },
      "execution_count": null,
      "outputs": []
    },
    {
      "cell_type": "code",
      "source": [
        "print(\"and\")\n",
        "print_truth_table(function_and)\n",
        "print(\"-\" * 20)\n",
        "\n",
        "print(\"or\")\n",
        "print_truth_table(function_or)\n",
        "print(\"-\" * 20)\n",
        "\n",
        "print(\"nand\")\n",
        "print_truth_table(function_nand)\n",
        "print(\"-\" * 20)\n",
        "\n",
        "print(\"nor\")\n",
        "print_truth_table(function_nor)\n"
      ],
      "metadata": {
        "colab": {
          "base_uri": "https://localhost:8080/"
        },
        "id": "7pbjVMUMyha5",
        "outputId": "c9e5046f-5d2c-4d8f-dc2b-7955a1c2268b"
      },
      "execution_count": null,
      "outputs": [
        {
          "output_type": "stream",
          "name": "stdout",
          "text": [
            "and\n",
            "x1\tx2\ty\n",
            "--------------------\n",
            "0\t0\t0\n",
            "0\t1\t0\n",
            "1\t0\t0\n",
            "1\t1\t1\n",
            "--------------------\n",
            "or\n",
            "x1\tx2\ty\n",
            "--------------------\n",
            "0\t0\t0\n",
            "0\t1\t1\n",
            "1\t0\t1\n",
            "1\t1\t1\n",
            "--------------------\n",
            "nand\n",
            "x1\tx2\ty\n",
            "--------------------\n",
            "0\t0\t1\n",
            "0\t1\t1\n",
            "1\t0\t1\n",
            "1\t1\t0\n",
            "--------------------\n",
            "nor\n",
            "x1\tx2\ty\n",
            "--------------------\n",
            "0\t0\t1\n",
            "0\t1\t0\n",
            "1\t0\t0\n",
            "1\t1\t0\n"
          ]
        }
      ]
    },
    {
      "cell_type": "code",
      "source": [
        "function_xor = lambda x1, x2: function_x(function_x(x1, x2), function_x(x2, x1))\n",
        "print(\"xor\")\n",
        "print_truth_table(function_xor)"
      ],
      "metadata": {
        "colab": {
          "base_uri": "https://localhost:8080/"
        },
        "id": "YOxUn5p32rHT",
        "outputId": "06d806a2-2e0d-4233-919e-93c939529255"
      },
      "execution_count": null,
      "outputs": [
        {
          "output_type": "stream",
          "name": "stdout",
          "text": [
            "and\n",
            "x1\tx2\ty\n",
            "--------------------\n",
            "0\t0\t0\n",
            "0\t1\t1\n",
            "1\t0\t1\n",
            "1\t1\t0\n"
          ]
        }
      ]
    }
  ]
}